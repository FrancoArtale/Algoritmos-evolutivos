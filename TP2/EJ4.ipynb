{
 "cells": [
  {
   "cell_type": "markdown",
   "metadata": {},
   "source": [
    "#### Librerias:"
   ]
  },
  {
   "cell_type": "code",
   "execution_count": 8,
   "metadata": {},
   "outputs": [],
   "source": [
    "# Librerias\n",
    "import numpy as np\n",
    "from pyswarm import pso\n",
    "import math\n",
    "import matplotlib.pyplot as plt"
   ]
  },
  {
   "cell_type": "markdown",
   "metadata": {},
   "source": [
    "#### Función a maximizar:"
   ]
  },
  {
   "attachments": {
    "image.png": {
     "image/png": "[encoded data removed]"
    }
   },
   "cell_type": "markdown",
   "metadata": {},
   "source": [
    "![image.png](attachment:image.png)"
   ]
  },
  {
   "cell_type": "markdown",
   "metadata": {},
   "source": [
    "Tenemos las ecuaciones:   \n",
    "- 3x + 2y = 9    \n",
    "- x - 5y = 4  \n",
    "\n",
    "Si reformulamos como:\n",
    "- f(x,y) = 3x +2y - 9 = 0\n",
    "- g(x,y) = x - 5y - 4 = 0  \n",
    "\n",
    "Si sumamos f(x,y) + g(x,y) el valor debe ser 0, pero si queremos optimizar para minimizar y encontrar el minimo podemos hacer f(x,y)^2  + g(x,y)^2 lo cual tambien dara 0 y será el minimo, y como sabemos que f(x,y)=0 y g(x,y)=0, lo que encontremos para x,y será la solución.  "
   ]
  },
  {
   "cell_type": "code",
   "execution_count": 9,
   "metadata": {},
   "outputs": [],
   "source": [
    "# funcion objetivo\n",
    "def f1(x, y):\n",
    "    return 3 * x + 2 *  y - 9\n",
    "\n",
    "def f2(x, y):\n",
    "    return x - 5 * y - 4\n",
    "\n",
    "def funcion_objetivo(X):\n",
    "\n",
    "    x, y = X[0], X[1]\n",
    "    \n",
    "    return f1(x, y) ** 2 + f2(x, y) ** 2"
   ]
  },
  {
   "cell_type": "markdown",
   "metadata": {},
   "source": [
    "#### Parametros algoritmo:"
   ]
  },
  {
   "cell_type": "code",
   "execution_count": 10,
   "metadata": {},
   "outputs": [],
   "source": [
    "# parametros\n",
    "num_particulas = 2  # numero de particulas\n",
    "dim = 1  # dimensiones\n",
    "cantidad_iteraciones = 30  # maximo numero de iteraciones\n",
    "c1 = 1.49  # componente cognitivo\n",
    "c2 = 1.49  # componente social\n",
    "w = 0.5  # factor de inercia\n",
    "limite_inf = 0 # limite inferior de busqueda\n",
    "limite_sup = 10 # limite superior de busqueda"
   ]
  },
  {
   "cell_type": "markdown",
   "metadata": {},
   "source": [
    "#### Inicializaciones:"
   ]
  },
  {
   "cell_type": "code",
   "execution_count": 27,
   "metadata": {},
   "outputs": [
    {
     "name": "stdout",
     "output_type": "stream",
     "text": [
      "Stopping search: maximum iterations reached --> 20\n",
      "Best position: [ 3.11950372 -0.17532842] and best value: 7.654526966911774e-05\n",
      "Al evaluar en las funciones los valores deben ser 0:\n",
      "Evaluando en f1: 0.00785432539300146\n",
      "Evaluando en f2: -0.0038541980086614913\n"
     ]
    }
   ],
   "source": [
    "best_position, best_value = pso(funcion_objetivo, [0, -3], [4, 0], omega=0.5,\n",
    "                                 phip = 2, phig = 2, swarmsize=20, maxiter=20)#, debug=True)\n",
    "\n",
    "print(f\"Best position: {best_position} and best value: {best_value}\")\n",
    "print(f\"Al evaluar en las funciones los valores deben ser 0:\")\n",
    "print(f\"Evaluando en f1: {f1(best_position[0], best_position[1])}\")\n",
    "print(f\"Evaluando en f2: {f2(best_position[0], best_position[1])}\")"
   ]
  },
  {
   "cell_type": "markdown",
   "metadata": {},
   "source": [
    "Las verdaderas raices son:  \n",
    "- x = 3.117647  \n",
    "- y = -0.17647  \n",
    "\n",
    "Las calcule aparte, en hoja."
   ]
  }
 ],
 "metadata": {
  "kernelspec": {
   "display_name": "ae",
   "language": "python",
   "name": "python3"
  },
  "language_info": {
   "codemirror_mode": {
    "name": "ipython",
    "version": 3
   },
   "file_extension": ".py",
   "mimetype": "text/x-python",
   "name": "python",
   "nbconvert_exporter": "python",
   "pygments_lexer": "ipython3",
   "version": "3.10.9"
  }
 },
 "nbformat": 4,
 "nbformat_minor": 2
}
